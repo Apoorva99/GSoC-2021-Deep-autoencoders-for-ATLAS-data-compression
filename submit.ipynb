{
 "cells": [
  {
   "cell_type": "markdown",
   "id": "piano-tissue",
   "metadata": {},
   "source": [
    "# Importing Libraries\n"
   ]
  },
  {
   "cell_type": "code",
   "execution_count": 1,
   "id": "behind-vegetarian",
   "metadata": {},
   "outputs": [],
   "source": [
    "import pandas as pd\n",
    "from sklearn.model_selection import train_test_split\n",
    "import math\n",
    "import matplotlib.pyplot as plt\n",
    "from fastai.callback import schedule\n",
    "from fastai.metrics import mse\n",
    "import time\n",
    "import os\n",
    "import numpy as np\n",
    "import torch\n",
    "import torch.nn as nn\n",
    "import torch.optim as optim\n",
    "import torch.utils.data\n",
    "from torch.autograd import Variable\n",
    "\n",
    "from torch.utils.data import TensorDataset\n",
    "from torch.utils.data import DataLoader\n",
    "\n",
    "from fastai import learner\n",
    "from fastai.data import core\n"
   ]
  },
  {
   "cell_type": "markdown",
   "id": "martial-reconstruction",
   "metadata": {},
   "source": [
    "# Loading the Dataset"
   ]
  },
  {
   "cell_type": "code",
   "execution_count": 2,
   "id": "twelve-driver",
   "metadata": {},
   "outputs": [],
   "source": [
    "data1 = pd.read_csv('data.csv', header=None)\n",
    "data1 = data1.fillna('0;0')"
   ]
  },
  {
   "cell_type": "markdown",
   "id": "promising-individual",
   "metadata": {},
   "source": [
    "# Removing the useless columns and adding column names"
   ]
  },
  {
   "cell_type": "code",
   "execution_count": 3,
   "id": "actual-breed",
   "metadata": {},
   "outputs": [],
   "source": [
    "orig = data1\n",
    "data1 = data1[[0,1,2,3,4]]\n",
    "data2 = pd.DataFrame(data1[4].str.split(';').tolist(), columns = ['phi1', 'obj2'])\n",
    "data1 = pd.concat([data1[[0,1,2,3]], data2], axis=1, join=\"inner\")"
   ]
  },
  {
   "cell_type": "code",
   "execution_count": 4,
   "id": "interstate-edwards",
   "metadata": {},
   "outputs": [],
   "source": [
    "data2 = pd.DataFrame(data1[0].str.split(';').tolist(), columns = ['event ID', 'process ID', 'event weight', 'MET', 'METphi','obj1'])\n",
    "data1 = pd.concat([data2,data1[[1,2,3,'phi1']]], axis=1, join=\"inner\")"
   ]
  },
  {
   "cell_type": "code",
   "execution_count": 5,
   "id": "wrapped-slovak",
   "metadata": {},
   "outputs": [],
   "source": [
    "data1.columns = ['event ID',   'process ID', 'event weight',          'MET',\n",
    "             'METphi',         'obj',              'E', 'pt', 'eta',         'phi']\n",
    "final = data1[['obj','E', 'pt', 'eta','phi']]"
   ]
  },
  {
   "cell_type": "code",
   "execution_count": 6,
   "id": "popular-coordinator",
   "metadata": {},
   "outputs": [
    {
     "data": {
      "text/html": [
       "<div>\n",
       "<style scoped>\n",
       "    .dataframe tbody tr th:only-of-type {\n",
       "        vertical-align: middle;\n",
       "    }\n",
       "\n",
       "    .dataframe tbody tr th {\n",
       "        vertical-align: top;\n",
       "    }\n",
       "\n",
       "    .dataframe thead th {\n",
       "        text-align: right;\n",
       "    }\n",
       "</style>\n",
       "<table border=\"1\" class=\"dataframe\">\n",
       "  <thead>\n",
       "    <tr style=\"text-align: right;\">\n",
       "      <th></th>\n",
       "      <th>obj</th>\n",
       "      <th>E</th>\n",
       "      <th>pt</th>\n",
       "      <th>eta</th>\n",
       "      <th>phi</th>\n",
       "    </tr>\n",
       "  </thead>\n",
       "  <tbody>\n",
       "    <tr>\n",
       "      <th>0</th>\n",
       "      <td>b</td>\n",
       "      <td>947383.0</td>\n",
       "      <td>824498.0</td>\n",
       "      <td>-0.523103</td>\n",
       "      <td>1.64421</td>\n",
       "    </tr>\n",
       "    <tr>\n",
       "      <th>1</th>\n",
       "      <td>j</td>\n",
       "      <td>1070000.0</td>\n",
       "      <td>751597.0</td>\n",
       "      <td>0.858186</td>\n",
       "      <td>-1.84217</td>\n",
       "    </tr>\n",
       "    <tr>\n",
       "      <th>2</th>\n",
       "      <td>j</td>\n",
       "      <td>676000.0</td>\n",
       "      <td>640429.0</td>\n",
       "      <td>0.330450</td>\n",
       "      <td>0.704554</td>\n",
       "    </tr>\n",
       "    <tr>\n",
       "      <th>3</th>\n",
       "      <td>j</td>\n",
       "      <td>936707.0</td>\n",
       "      <td>616229.0</td>\n",
       "      <td>0.973383</td>\n",
       "      <td>-1.56592</td>\n",
       "    </tr>\n",
       "    <tr>\n",
       "      <th>4</th>\n",
       "      <td>j</td>\n",
       "      <td>640313.0</td>\n",
       "      <td>589524.0</td>\n",
       "      <td>0.390749</td>\n",
       "      <td>1.23734</td>\n",
       "    </tr>\n",
       "    <tr>\n",
       "      <th>...</th>\n",
       "      <td>...</td>\n",
       "      <td>...</td>\n",
       "      <td>...</td>\n",
       "      <td>...</td>\n",
       "      <td>...</td>\n",
       "    </tr>\n",
       "    <tr>\n",
       "      <th>6394</th>\n",
       "      <td>j</td>\n",
       "      <td>1120000.0</td>\n",
       "      <td>1010000.0</td>\n",
       "      <td>0.453265</td>\n",
       "      <td>-1.77278</td>\n",
       "    </tr>\n",
       "    <tr>\n",
       "      <th>6395</th>\n",
       "      <td>j</td>\n",
       "      <td>1920000.0</td>\n",
       "      <td>874869.0</td>\n",
       "      <td>1.418550</td>\n",
       "      <td>1.83927</td>\n",
       "    </tr>\n",
       "    <tr>\n",
       "      <th>6396</th>\n",
       "      <td>j</td>\n",
       "      <td>787964.0</td>\n",
       "      <td>263158.0</td>\n",
       "      <td>1.759810</td>\n",
       "      <td>0.456786</td>\n",
       "    </tr>\n",
       "    <tr>\n",
       "      <th>6397</th>\n",
       "      <td>j</td>\n",
       "      <td>731849.0</td>\n",
       "      <td>722541.0</td>\n",
       "      <td>-0.134499</td>\n",
       "      <td>2.56393</td>\n",
       "    </tr>\n",
       "    <tr>\n",
       "      <th>6398</th>\n",
       "      <td>j</td>\n",
       "      <td>893689.0</td>\n",
       "      <td>742040.0</td>\n",
       "      <td>-0.618057</td>\n",
       "      <td>-3.10466</td>\n",
       "    </tr>\n",
       "  </tbody>\n",
       "</table>\n",
       "<p>6399 rows × 5 columns</p>\n",
       "</div>"
      ],
      "text/plain": [
       "     obj          E         pt       eta       phi\n",
       "0      b   947383.0   824498.0 -0.523103   1.64421\n",
       "1      j  1070000.0   751597.0  0.858186  -1.84217\n",
       "2      j   676000.0   640429.0  0.330450  0.704554\n",
       "3      j   936707.0   616229.0  0.973383  -1.56592\n",
       "4      j   640313.0   589524.0  0.390749   1.23734\n",
       "...   ..        ...        ...       ...       ...\n",
       "6394   j  1120000.0  1010000.0  0.453265  -1.77278\n",
       "6395   j  1920000.0   874869.0  1.418550   1.83927\n",
       "6396   j   787964.0   263158.0  1.759810  0.456786\n",
       "6397   j   731849.0   722541.0 -0.134499   2.56393\n",
       "6398   j   893689.0   742040.0 -0.618057  -3.10466\n",
       "\n",
       "[6399 rows x 5 columns]"
      ]
     },
     "execution_count": 6,
     "metadata": {},
     "output_type": "execute_result"
    }
   ],
   "source": [
    "final"
   ]
  },
  {
   "cell_type": "markdown",
   "id": "optimum-chancellor",
   "metadata": {},
   "source": [
    "Collects all other objects after obj1 and adds them to the final dataset"
   ]
  },
  {
   "cell_type": "code",
   "execution_count": 7,
   "id": "alike-record",
   "metadata": {},
   "outputs": [],
   "source": [
    "for i in range(4,48,4):\n",
    "    data_4  = orig[[i,i+1,i+2,i+3,i+4]]\n",
    "    temp = pd.DataFrame(data_4[i].str.split(';').tolist(), columns = ['phi1', 'obj2'])\n",
    "    temp2 = pd.DataFrame(data_4[i+4].str.split(';').tolist(), columns = ['phi2', 'obj3'])\n",
    "    temp = pd.concat([temp['obj2'],data_4[[i+1,i+2,i+3]]],axis=1, join=\"inner\")\n",
    "    data_4 = pd.concat([temp[['obj2',i+1,i+2,i+3]],temp2['phi2']],axis=1, join=\"inner\")\n",
    "    data_4.columns = ['obj','E', 'pt', 'eta','phi']\n",
    "    final = pd.concat([final,data_4])\n",
    "    final = final.reset_index(drop=True)\n",
    "\n",
    "    \n",
    "    "
   ]
  },
  {
   "cell_type": "markdown",
   "id": "cheap-worker",
   "metadata": {},
   "source": [
    "Select samples where the object is a jet particle"
   ]
  },
  {
   "cell_type": "code",
   "execution_count": 8,
   "id": "herbal-applicant",
   "metadata": {},
   "outputs": [],
   "source": [
    "final = final[final['obj']=='j'][['E', 'pt', 'eta','phi']]"
   ]
  },
  {
   "cell_type": "markdown",
   "id": "impressive-polymer",
   "metadata": {},
   "source": [
    "# Custom Normalization for the dataset"
   ]
  },
  {
   "cell_type": "markdown",
   "id": "confirmed-secretary",
   "metadata": {},
   "source": [
    "Adding custom normalization to make the max value of all varibles near one"
   ]
  },
  {
   "cell_type": "code",
   "execution_count": 9,
   "id": "alien-burst",
   "metadata": {},
   "outputs": [],
   "source": [
    "def custom_normalize(df):\n",
    "    df['eta'] = df['eta'] /5\n",
    "    df['phi'] = df['phi'].astype(float) / 3\n",
    "    df['E'] = np.log10(df['E'].astype(float)) /6\n",
    "#     df['m'] = 10**df['m']\n",
    "    df['pt'] = np.log10(df['pt'].astype(float)) /6\n",
    "    return df"
   ]
  },
  {
   "cell_type": "code",
   "execution_count": 10,
   "id": "worldwide-grave",
   "metadata": {},
   "outputs": [],
   "source": [
    "final = custom_normalize(final)"
   ]
  },
  {
   "cell_type": "code",
   "execution_count": 11,
   "id": "precise-hundred",
   "metadata": {},
   "outputs": [
    {
     "data": {
      "text/html": [
       "<div>\n",
       "<style scoped>\n",
       "    .dataframe tbody tr th:only-of-type {\n",
       "        vertical-align: middle;\n",
       "    }\n",
       "\n",
       "    .dataframe tbody tr th {\n",
       "        vertical-align: top;\n",
       "    }\n",
       "\n",
       "    .dataframe thead th {\n",
       "        text-align: right;\n",
       "    }\n",
       "</style>\n",
       "<table border=\"1\" class=\"dataframe\">\n",
       "  <thead>\n",
       "    <tr style=\"text-align: right;\">\n",
       "      <th></th>\n",
       "      <th>E</th>\n",
       "      <th>pt</th>\n",
       "      <th>eta</th>\n",
       "      <th>phi</th>\n",
       "    </tr>\n",
       "  </thead>\n",
       "  <tbody>\n",
       "    <tr>\n",
       "      <th>1</th>\n",
       "      <td>1.004897</td>\n",
       "      <td>0.979331</td>\n",
       "      <td>0.171637</td>\n",
       "      <td>-0.614057</td>\n",
       "    </tr>\n",
       "    <tr>\n",
       "      <th>2</th>\n",
       "      <td>0.971658</td>\n",
       "      <td>0.967745</td>\n",
       "      <td>0.06609</td>\n",
       "      <td>0.234851</td>\n",
       "    </tr>\n",
       "    <tr>\n",
       "      <th>3</th>\n",
       "      <td>0.995267</td>\n",
       "      <td>0.964957</td>\n",
       "      <td>0.194677</td>\n",
       "      <td>-0.521973</td>\n",
       "    </tr>\n",
       "    <tr>\n",
       "      <th>4</th>\n",
       "      <td>0.967732</td>\n",
       "      <td>0.961750</td>\n",
       "      <td>0.07815</td>\n",
       "      <td>0.412447</td>\n",
       "    </tr>\n",
       "    <tr>\n",
       "      <th>5</th>\n",
       "      <td>0.960991</td>\n",
       "      <td>0.956163</td>\n",
       "      <td>0.072811</td>\n",
       "      <td>-0.535773</td>\n",
       "    </tr>\n",
       "  </tbody>\n",
       "</table>\n",
       "</div>"
      ],
      "text/plain": [
       "          E        pt       eta       phi\n",
       "1  1.004897  0.979331  0.171637 -0.614057\n",
       "2  0.971658  0.967745   0.06609  0.234851\n",
       "3  0.995267  0.964957  0.194677 -0.521973\n",
       "4  0.967732  0.961750   0.07815  0.412447\n",
       "5  0.960991  0.956163  0.072811 -0.535773"
      ]
     },
     "execution_count": 11,
     "metadata": {},
     "output_type": "execute_result"
    }
   ],
   "source": [
    "final.head()"
   ]
  },
  {
   "cell_type": "code",
   "execution_count": 12,
   "id": "seventh-canada",
   "metadata": {},
   "outputs": [
    {
     "data": {
      "text/plain": [
       "E      1.107406\n",
       "pt     1.053358\n",
       "eta    0.950616\n",
       "phi     1.04707\n",
       "dtype: object"
      ]
     },
     "execution_count": 12,
     "metadata": {},
     "output_type": "execute_result"
    }
   ],
   "source": [
    "final.max()"
   ]
  },
  {
   "cell_type": "markdown",
   "id": "apart-powder",
   "metadata": {},
   "source": [
    "# Train test Split"
   ]
  },
  {
   "cell_type": "code",
   "execution_count": 13,
   "id": "unknown-crazy",
   "metadata": {},
   "outputs": [],
   "source": [
    "train, test = train_test_split(final, test_size=0.2)"
   ]
  },
  {
   "cell_type": "code",
   "execution_count": 14,
   "id": "declared-acting",
   "metadata": {},
   "outputs": [
    {
     "name": "stdout",
     "output_type": "stream",
     "text": [
      "Training sample:\n",
      "              E        pt       eta       phi\n",
      "17060  0.964202  0.823562  -0.52614  0.157060\n",
      "12110  0.970176  0.930268 -0.228386  0.905243\n",
      "4725   0.984580  0.971988 -0.119382  0.086312\n",
      "6715   0.941377  0.849537 -0.388126  0.806337\n",
      "15673  0.896308  0.845572  0.263098 -0.246632\n",
      "\n",
      "\n",
      "Testing sample:\n",
      "              E        pt       eta       phi\n",
      "23519  0.799438  0.741710  -0.28628 -0.417400\n",
      "6738   0.922628  0.899788 -0.163778  0.741287\n",
      "19097  1.047967  0.910035   0.51809 -0.264108\n",
      "16504  0.899109  0.745637 -0.561808  0.320286\n",
      "4114   0.961410  0.957133  0.063684 -0.474543\n",
      "\n",
      "\n",
      "The number of entries in the training data: 18128\n",
      "The number of entries in the validation data: 4533\n"
     ]
    }
   ],
   "source": [
    "print('Training sample:')\n",
    "print(train.head())\n",
    "\n",
    "print('\\n')\n",
    "\n",
    "print('Testing sample:')\n",
    "print(test.head())\n",
    "\n",
    "print('\\n')\n",
    "\n",
    "print('The number of entries in the training data:', len(train))\n",
    "print('The number of entries in the validation data:', len(test))"
   ]
  },
  {
   "cell_type": "markdown",
   "id": "prospective-valley",
   "metadata": {},
   "source": [
    "\n",
    "\n",
    "\n",
    "# Lets have a closer look at the data"
   ]
  },
  {
   "cell_type": "markdown",
   "id": "mighty-wound",
   "metadata": {},
   "source": [
    "NOTE: The plots are of normalized data but we only care about the shape."
   ]
  },
  {
   "cell_type": "code",
   "execution_count": 15,
   "id": "plain-birmingham",
   "metadata": {},
   "outputs": [
    {
     "data": {
      "image/png": "[encoded data removed]",
      "text/plain": [
       "<Figure size 432x288 with 1 Axes>"
      ]
     },
     "metadata": {
      "needs_background": "light"
     },
     "output_type": "display_data"
    },
    {
     "data": {
      "image/png": "[encoded data removed]",
      "text/plain": [
       "<Figure size 432x288 with 1 Axes>"
      ]
     },
     "metadata": {
      "needs_background": "light"
     },
     "output_type": "display_data"
    },
    {
     "data": {
      "image/png": "[encoded data removed]",
      "text/plain": [
       "<Figure size 432x288 with 1 Axes>"
      ]
     },
     "metadata": {
      "needs_background": "light"
     },
     "output_type": "display_data"
    },
    {
     "data": {
      "image/png": "[encoded data removed]",
      "text/plain": [
       "<Figure size 432x288 with 1 Axes>"
      ]
     },
     "metadata": {
      "needs_background": "light"
     },
     "output_type": "display_data"
    }
   ],
   "source": [
    "\n",
    "# unit_list = ['[log(GeV)]', '[rad/3]', '[rad/3]', '[log(GeV)]']\n",
    "variable_list = [r'$E_T$',r'$p_T$', r'$\\eta$', r'$\\phi$']\n",
    "\n",
    "branches=['E', 'pt', 'eta','phi']\n",
    "\n",
    "n_bins = 100\n",
    "\n",
    "for kk in range(0,4):\n",
    "    n_hist_data, bin_edges, _ = plt.hist(train[branches[kk]], color='gray', label='Input', alpha=1, bins=n_bins)\n",
    "#     plt.xlabel(xlabel=variable_list[kk] + ' ' + unit_list[kk])\n",
    "    plt.xlabel(xlabel=variable_list[kk])\n",
    "\n",
    "    plt.ylabel('# of events')\n",
    "    #plt.savefig(\"fourmomentum_\"+branches[kk],dpi=300)\n",
    "    plt.show()"
   ]
  },
  {
   "cell_type": "markdown",
   "id": "extended-jenny",
   "metadata": {},
   "source": [
    "\n",
    "# Setting up the network"
   ]
  },
  {
   "cell_type": "markdown",
   "id": "republican-demonstration",
   "metadata": {},
   "source": [
    "## Preparing the data"
   ]
  },
  {
   "cell_type": "code",
   "execution_count": 16,
   "id": "registered-feelings",
   "metadata": {},
   "outputs": [],
   "source": [
    "train_x = train\n",
    "test_x = test\n",
    "train_y = train_x  # y = x since we are building an autoencoder\n",
    "test_y = test_x\n",
    "\n",
    "# Constructs a tensor object of the data and wraps them in a TensorDataset object.\n",
    "train_ds = TensorDataset(torch.tensor(np.array(train_x.values, dtype=float), dtype=torch.float), torch.tensor(np.array(train_y.values, dtype=float), dtype=torch.float))\n",
    "valid_ds = TensorDataset(torch.tensor(np.array(test_x.values, dtype=float), dtype=torch.float), torch.tensor(np.array(test_y.values, dtype=float), dtype=torch.float))\n",
    "\n",
    "\n"
   ]
  },
  {
   "cell_type": "code",
   "execution_count": 17,
   "id": "hundred-facility",
   "metadata": {},
   "outputs": [],
   "source": [
    "bs = 16\n",
    "\n",
    "# Converts the TensorDataset into a DataLoader object and combines into one DataLoaders object (a basic wrapper\n",
    "# around several DataLoader objects). \n",
    "train_dl = DataLoader(train_ds, batch_size=bs, shuffle=True)\n",
    "valid_dl = DataLoader(valid_ds, batch_size=bs * 2)\n",
    "dls = core.DataLoaders(train_dl, valid_dl)"
   ]
  },
  {
   "cell_type": "markdown",
   "id": "reverse-combat",
   "metadata": {},
   "source": [
    "## Preparing the network"
   ]
  },
  {
   "cell_type": "markdown",
   "id": "miniature-democrat",
   "metadata": {},
   "source": [
    "I reduced the size of the network as the dataset provided here is of much less size. This network is performing quite well and uses much less computational resources"
   ]
  },
  {
   "cell_type": "code",
   "execution_count": 18,
   "id": "patent-skirt",
   "metadata": {},
   "outputs": [
    {
     "data": {
      "text/plain": [
       "AE_3D_Custom(\n",
       "  (en1): Linear(in_features=4, out_features=3, bias=True)\n",
       "  (de4): Linear(in_features=3, out_features=4, bias=True)\n",
       ")"
      ]
     },
     "execution_count": 18,
     "metadata": {},
     "output_type": "execute_result"
    }
   ],
   "source": [
    "class AE_3D_Custom(nn.Module):\n",
    "    def __init__(self, n_features=4):\n",
    "        super(AE_3D_Custom, self).__init__()\n",
    "        self.en1 = nn.Linear(n_features, 3)\n",
    "        self.de4 = nn.Linear(3, n_features)\n",
    "\n",
    "    def encode(self, x):\n",
    "        return self.en1(x)\n",
    "\n",
    "    def decode(self, x):\n",
    "        return self.de4(x)\n",
    "\n",
    "    def forward(self, x):\n",
    "        z = self.encode(x)\n",
    "        return self.decode(z)\n",
    "\n",
    "    def describe(self):\n",
    "        return 'in-200-200-20-3-20-200-200-out'\n",
    "\n",
    "#model = AE_3D_200_LeakyReLU().double()\n",
    "model = AE_3D_Custom()\n",
    "model.to('cpu')"
   ]
  },
  {
   "cell_type": "markdown",
   "id": "liquid-killing",
   "metadata": {},
   "source": [
    "## Initializing the loss function"
   ]
  },
  {
   "cell_type": "markdown",
   "id": "identical-festival",
   "metadata": {},
   "source": [
    "MSE loss is appropriate for a compression autoencoder since it reflects the [(input-output)/input] physical quantity that we want to minimize."
   ]
  },
  {
   "cell_type": "code",
   "execution_count": 19,
   "id": "chinese-saturn",
   "metadata": {},
   "outputs": [],
   "source": [
    "\n",
    "loss_func = nn.MSELoss()\n",
    "\n",
    "#bn_wd = False  # Don't use weight decay for batchnorm layers\n",
    "#true_wd = True  # weight decay will be used for all optimizers\n",
    "wd = 1e-6\n",
    "\n",
    "recorder = learner.Recorder()\n",
    "learn = learner.Learner(dls, model=model, wd=wd, loss_func=loss_func, cbs=recorder)"
   ]
  },
  {
   "cell_type": "markdown",
   "id": "responsible-cardiff",
   "metadata": {},
   "source": [
    "## Training the network from scratch"
   ]
  },
  {
   "cell_type": "markdown",
   "id": "dependent-award",
   "metadata": {},
   "source": [
    "The learning rate is a hyper-paramater that sets how much the weights of the network will change each step with respect to the loss gradient.\n",
    "\n",
    "Then we plot the loss versus the learning rates. We're interested in finding a good order of magnitude of learning rate, so we plot with a log scale.\n",
    "\n",
    "A good value for the learning rates is then either:\n",
    "- one tenth of the minimum before the divergence\n",
    "- when the slope is the steepest"
   ]
  },
  {
   "cell_type": "code",
   "execution_count": 20,
   "id": "strange-subsection",
   "metadata": {},
   "outputs": [
    {
     "name": "stdout",
     "output_type": "stream",
     "text": [
      "Learning rate with the minimum loss: 0.13182567358016967\n",
      "Learning rate with the steepest gradient: 0.10000000149011612\n"
     ]
    },
    {
     "data": {
      "image/png": "[encoded data removed]",
      "text/plain": [
       "<Figure size 432x288 with 1 Axes>"
      ]
     },
     "metadata": {
      "needs_background": "light"
     },
     "output_type": "display_data"
    }
   ],
   "source": [
    "\n",
    "lr_min, lr_steep = learn.lr_find()\n",
    "\n",
    "print('Learning rate with the minimum loss:', lr_min)\n",
    "print('Learning rate with the steepest gradient:', lr_steep)"
   ]
  },
  {
   "cell_type": "code",
   "execution_count": 21,
   "id": "bibliographic-hampton",
   "metadata": {},
   "outputs": [
    {
     "name": "stdout",
     "output_type": "stream",
     "text": [
      "[0, 0.00046188998385332525, 0.0004163069243077189, '00:03']\n",
      "[0, 0.00046188998385332525, 0.0004163069243077189, '00:03']\n",
      "[1, 0.0004318902501836419, 0.00040303298737853765, '00:02']\n",
      "[1, 0.0004318902501836419, 0.00040303298737853765, '00:02']\n",
      "[2, 0.00044214955414645374, 0.00042888877214863896, '00:02']\n",
      "[2, 0.00044214955414645374, 0.00042888877214863896, '00:02']\n",
      "[3, 0.0004445405793376267, 0.00040931819239631295, '00:02']\n",
      "[3, 0.0004445405793376267, 0.00040931819239631295, '00:02']\n",
      "[4, 0.0004466602113097906, 0.000488370074890554, '00:02']\n",
      "[4, 0.0004466602113097906, 0.000488370074890554, '00:02']\n",
      "[5, 0.00046555453445762396, 0.0004659518017433584, '00:02']\n",
      "[5, 0.00046555453445762396, 0.0004659518017433584, '00:02']\n",
      "[6, 0.0004971873131580651, 0.0004693249356932938, '00:02']\n",
      "[6, 0.0004971873131580651, 0.0004693249356932938, '00:02']\n",
      "[7, 0.0007129668956622481, 0.0006335002835839987, '00:02']\n",
      "[7, 0.0007129668956622481, 0.0006335002835839987, '00:02']\n",
      "[8, 0.0005245244828984141, 0.0004214875225443393, '00:03']\n",
      "[8, 0.0005245244828984141, 0.0004214875225443393, '00:03']\n",
      "[9, 0.0009431932121515274, 0.0025777725968509912, '00:04']\n",
      "[9, 0.0009431932121515274, 0.0025777725968509912, '00:04']\n",
      "[10, 0.0005124554154463112, 0.00041984417475759983, '00:02']\n",
      "[10, 0.0005124554154463112, 0.00041984417475759983, '00:02']\n",
      "[11, 0.000708898704033345, 0.0007608135929331183, '00:03']\n",
      "[11, 0.000708898704033345, 0.0007608135929331183, '00:03']\n",
      "[12, 0.0009316499927081168, 0.0006837805267423391, '00:02']\n",
      "[12, 0.0009316499927081168, 0.0006837805267423391, '00:02']\n",
      "[13, 0.0007658814429305494, 0.0008294031140394509, '00:02']\n",
      "[13, 0.0007658814429305494, 0.0008294031140394509, '00:02']\n",
      "[14, 0.0008694311254657805, 0.0011247285874560475, '00:02']\n",
      "[14, 0.0008694311254657805, 0.0011247285874560475, '00:02']\n",
      "[15, 0.0009142152848653495, 0.0008533906075172126, '00:02']\n",
      "[15, 0.0009142152848653495, 0.0008533906075172126, '00:02']\n",
      "[16, 0.0009550995309837162, 0.0011701451148837805, '00:02']\n",
      "[16, 0.0009550995309837162, 0.0011701451148837805, '00:02']\n",
      "[17, 0.0018757636426016688, 0.0016390862874686718, '00:02']\n",
      "[17, 0.0018757636426016688, 0.0016390862874686718, '00:02']\n",
      "[18, 0.0018185426015406847, 0.0010627440642565489, '00:02']\n",
      "[18, 0.0018185426015406847, 0.0010627440642565489, '00:02']\n",
      "[19, 0.0014185411855578423, 0.0009002825245261192, '00:02']\n",
      "[19, 0.0014185411855578423, 0.0009002825245261192, '00:02']\n",
      "[20, 0.0019112261943519115, 0.00311769125983119, '00:02']\n",
      "[20, 0.0019112261943519115, 0.00311769125983119, '00:02']\n",
      "[21, 0.0013379787560552359, 0.0010432569542899728, '00:02']\n",
      "[21, 0.0013379787560552359, 0.0010432569542899728, '00:02']\n",
      "[22, 0.0019749589264392853, 0.002129162894561887, '00:02']\n",
      "[22, 0.0019749589264392853, 0.002129162894561887, '00:02']\n",
      "[23, 0.002241234527900815, 0.0022264248691499233, '00:02']\n",
      "[23, 0.002241234527900815, 0.0022264248691499233, '00:02']\n",
      "[24, 0.0015181386843323708, 0.002163885859772563, '00:02']\n",
      "[24, 0.0015181386843323708, 0.002163885859772563, '00:02']\n",
      "[25, 0.0015598777681589127, 0.0011852605966851115, '00:02']\n",
      "[25, 0.0015598777681589127, 0.0011852605966851115, '00:02']\n",
      "[26, 0.0024549243971705437, 0.012218997813761234, '00:02']\n",
      "[26, 0.0024549243971705437, 0.012218997813761234, '00:02']\n",
      "[27, 0.0014897242654114962, 0.001373085891827941, '00:02']\n",
      "[27, 0.0014897242654114962, 0.001373085891827941, '00:02']\n",
      "[28, 0.0026689856313169003, 0.0012554047862067819, '00:02']\n",
      "[28, 0.0026689856313169003, 0.0012554047862067819, '00:02']\n",
      "[29, 0.001644850941374898, 0.0009482565801590681, '00:02']\n",
      "[29, 0.001644850941374898, 0.0009482565801590681, '00:02']\n",
      "[30, 0.001007287297397852, 0.0005905411089770496, '00:03']\n",
      "[30, 0.001007287297397852, 0.0005905411089770496, '00:03']\n",
      "[31, 0.0012698548380285501, 0.0006177368923090398, '00:02']\n",
      "[31, 0.0012698548380285501, 0.0006177368923090398, '00:02']\n",
      "[32, 0.0013991756131872535, 0.0007065560785122216, '00:02']\n",
      "[32, 0.0013991756131872535, 0.0007065560785122216, '00:02']\n",
      "[33, 0.0019054316217079759, 0.002855876926332712, '00:02']\n",
      "[33, 0.0019054316217079759, 0.002855876926332712, '00:02']\n",
      "[34, 0.002325620735064149, 0.0013314306270331144, '00:02']\n",
      "[34, 0.002325620735064149, 0.0013314306270331144, '00:02']\n",
      "[35, 0.0025778755079954863, 0.0006364258588291705, '00:02']\n",
      "[35, 0.0025778755079954863, 0.0006364258588291705, '00:02']\n",
      "[36, 0.001560671953484416, 0.0020879365038126707, '00:02']\n",
      "[36, 0.001560671953484416, 0.0020879365038126707, '00:02']\n",
      "[37, 0.0010587730212137103, 0.000521137728355825, '00:02']\n",
      "[37, 0.0010587730212137103, 0.000521137728355825, '00:02']\n",
      "[38, 0.001911230618134141, 0.0026321113109588623, '00:02']\n",
      "[38, 0.001911230618134141, 0.0026321113109588623, '00:02']\n",
      "[39, 0.001938647823408246, 0.0011356822215020657, '00:02']\n",
      "[39, 0.001938647823408246, 0.0011356822215020657, '00:02']\n",
      "[40, 0.0017388155683875084, 0.001291339984163642, '00:02']\n",
      "[40, 0.0017388155683875084, 0.001291339984163642, '00:02']\n",
      "[41, 0.0015366730513051152, 0.0005292021669447422, '00:02']\n",
      "[41, 0.0015366730513051152, 0.0005292021669447422, '00:02']\n",
      "[42, 0.0016033814754337072, 0.000950292160268873, '00:03']\n",
      "[42, 0.0016033814754337072, 0.000950292160268873, '00:03']\n",
      "[43, 0.00162989750970155, 0.0007538798963651061, '00:02']\n",
      "[43, 0.00162989750970155, 0.0007538798963651061, '00:02']\n",
      "[44, 0.0017064341809600592, 0.0008383853710256517, '00:02']\n",
      "[44, 0.0017064341809600592, 0.0008383853710256517, '00:02']\n",
      "[45, 0.001762488973326981, 0.001284040859900415, '00:02']\n",
      "[45, 0.001762488973326981, 0.001284040859900415, '00:02']\n",
      "[46, 0.0009102902840822935, 0.0006718653021380305, '00:02']\n",
      "[46, 0.0009102902840822935, 0.0006718653021380305, '00:02']\n",
      "[47, 0.0010652844794094563, 0.00046429058420471847, '00:02']\n",
      "[47, 0.0010652844794094563, 0.00046429058420471847, '00:02']\n",
      "[48, 0.0013988871360197663, 0.0011286339722573757, '00:02']\n",
      "[48, 0.0013988871360197663, 0.0011286339722573757, '00:02']\n",
      "[49, 0.0007979947840794921, 0.0010427377419546247, '00:03']\n",
      "[49, 0.0007979947840794921, 0.0010427377419546247, '00:03']\n",
      "[50, 0.0014562375145033002, 0.0007769785588607192, '00:03']\n",
      "[50, 0.0014562375145033002, 0.0007769785588607192, '00:03']\n",
      "[51, 0.0008860538364388049, 0.0007357485010288656, '00:02']\n",
      "[51, 0.0008860538364388049, 0.0007357485010288656, '00:02']\n",
      "[52, 0.0012546316720545292, 0.0008906270377337933, '00:02']\n",
      "[52, 0.0012546316720545292, 0.0008906270377337933, '00:02']\n",
      "[53, 0.001317199319601059, 0.0010786796920001507, '00:02']\n",
      "[53, 0.001317199319601059, 0.0010786796920001507, '00:02']\n",
      "[54, 0.0011556902900338173, 0.0012662260560318828, '00:02']\n",
      "[54, 0.0011556902900338173, 0.0012662260560318828, '00:02']\n",
      "[55, 0.0008121512946672738, 0.0004962976672686636, '00:02']\n",
      "[55, 0.0008121512946672738, 0.0004962976672686636, '00:02']\n",
      "[56, 0.0008883273112587631, 0.000749985920265317, '00:02']\n",
      "[56, 0.0008883273112587631, 0.000749985920265317, '00:02']\n",
      "[57, 0.0007534739561378956, 0.0006675987970083952, '00:02']\n",
      "[57, 0.0007534739561378956, 0.0006675987970083952, '00:02']\n",
      "[58, 0.0006926266360096633, 0.0005499557009898126, '00:02']\n",
      "[58, 0.0006926266360096633, 0.0005499557009898126, '00:02']\n",
      "[59, 0.001043131691403687, 0.0010024042567238212, '00:03']\n",
      "[59, 0.001043131691403687, 0.0010024042567238212, '00:03']\n",
      "[60, 0.001098300563171506, 0.0010992054594680667, '00:04']\n",
      "[60, 0.001098300563171506, 0.0010992054594680667, '00:04']\n",
      "[61, 0.000652295770123601, 0.0007584257982671261, '00:03']\n",
      "[61, 0.000652295770123601, 0.0007584257982671261, '00:03']\n",
      "[62, 0.0008312920690514147, 0.0005024562706239522, '00:02']\n",
      "[62, 0.0008312920690514147, 0.0005024562706239522, '00:02']\n",
      "[63, 0.0008874558843672276, 0.0007399364840239286, '00:02']\n",
      "[63, 0.0008874558843672276, 0.0007399364840239286, '00:02']\n",
      "[64, 0.0007904645754024386, 0.0008722969214431942, '00:03']\n",
      "[64, 0.0007904645754024386, 0.0008722969214431942, '00:03']\n",
      "[65, 0.0006664232932962477, 0.0006479824078269303, '00:02']\n",
      "[65, 0.0006664232932962477, 0.0006479824078269303, '00:02']\n",
      "[66, 0.0006909790681675076, 0.0006037893472239375, '00:02']\n",
      "[66, 0.0006909790681675076, 0.0006037893472239375, '00:02']\n",
      "[67, 0.0007393260602839291, 0.0004916659090667963, '00:02']\n",
      "[67, 0.0007393260602839291, 0.0004916659090667963, '00:02']\n",
      "[68, 0.0004914400051347911, 0.00041294703260064125, '00:03']\n",
      "[68, 0.0004914400051347911, 0.00041294703260064125, '00:03']\n",
      "[69, 0.0005588206695392728, 0.0004871393321081996, '00:02']\n",
      "[69, 0.0005588206695392728, 0.0004871393321081996, '00:02']\n",
      "[70, 0.0006196684553287923, 0.0005405807169154286, '00:02']\n",
      "[70, 0.0006196684553287923, 0.0005405807169154286, '00:02']\n",
      "[71, 0.000531584897544235, 0.0006103319465182722, '00:02']\n",
      "[71, 0.000531584897544235, 0.0006103319465182722, '00:02']\n",
      "[72, 0.0004826968943234533, 0.0005345743265934289, '00:02']\n",
      "[72, 0.0004826968943234533, 0.0005345743265934289, '00:02']\n",
      "[73, 0.0006149852415546775, 0.0005932310014031827, '00:02']\n",
      "[73, 0.0006149852415546775, 0.0005932310014031827, '00:02']\n",
      "[74, 0.0006364267319440842, 0.0007751558441668749, '00:02']\n",
      "[74, 0.0006364267319440842, 0.0007751558441668749, '00:02']\n",
      "[75, 0.0005228053778409958, 0.0005980021087452769, '00:03']\n",
      "[75, 0.0005228053778409958, 0.0005980021087452769, '00:03']\n",
      "[76, 0.0006002940353937447, 0.0005334008601494133, '00:02']\n",
      "[76, 0.0006002940353937447, 0.0005334008601494133, '00:02']\n",
      "[77, 0.0004942675004713237, 0.0005200108862482011, '00:02']\n",
      "[77, 0.0004942675004713237, 0.0005200108862482011, '00:02']\n",
      "[78, 0.000484452088130638, 0.00043044460471719503, '00:03']\n",
      "[78, 0.000484452088130638, 0.00043044460471719503, '00:03']\n",
      "[79, 0.00047793216072022915, 0.00044715445255860686, '00:03']\n",
      "[79, 0.00047793216072022915, 0.00044715445255860686, '00:03']\n",
      "[80, 0.00040980204357765615, 0.0004173101915512234, '00:03']\n",
      "[80, 0.00040980204357765615, 0.0004173101915512234, '00:03']\n",
      "[81, 0.0004766833153553307, 0.00045402045361697674, '00:03']\n",
      "[81, 0.0004766833153553307, 0.00045402045361697674, '00:03']\n",
      "[82, 0.0003960401227232069, 0.0004258359840605408, '00:02']\n",
      "[82, 0.0003960401227232069, 0.0004258359840605408, '00:02']\n",
      "[83, 0.00043244942207820714, 0.000412310182582587, '00:03']\n",
      "[83, 0.00043244942207820714, 0.000412310182582587, '00:03']\n",
      "[84, 0.0004058943595737219, 0.0004346191417425871, '00:02']\n",
      "[84, 0.0004058943595737219, 0.0004346191417425871, '00:02']\n",
      "[85, 0.00041436919127590954, 0.00048229092499241233, '00:02']\n",
      "[85, 0.00041436919127590954, 0.00048229092499241233, '00:02']\n",
      "[86, 0.0003928189107682556, 0.0004033478326164186, '00:02']\n",
      "[86, 0.0003928189107682556, 0.0004033478326164186, '00:02']\n",
      "[87, 0.00041754962876439095, 0.0003939508169423789, '00:02']\n",
      "[87, 0.00041754962876439095, 0.0003939508169423789, '00:02']\n",
      "[88, 0.00044105344568379223, 0.0004052001750096679, '00:02']\n",
      "[88, 0.00044105344568379223, 0.0004052001750096679, '00:02']\n",
      "[89, 0.0003808552282862365, 0.00039828583248890936, '00:02']\n",
      "[89, 0.0003808552282862365, 0.00039828583248890936, '00:02']\n",
      "[90, 0.0003610251587815583, 0.00039765797555446625, '00:02']\n",
      "[90, 0.0003610251587815583, 0.00039765797555446625, '00:02']\n",
      "[91, 0.0004103242536075413, 0.00041200174018740654, '00:02']\n",
      "[91, 0.0004103242536075413, 0.00041200174018740654, '00:02']\n",
      "[92, 0.00040569351403973997, 0.00038779215537942946, '00:02']\n",
      "[92, 0.00040569351403973997, 0.00038779215537942946, '00:02']\n",
      "[93, 0.0003922677715308964, 0.00038610497722402215, '00:02']\n",
      "[93, 0.0003922677715308964, 0.00038610497722402215, '00:02']\n",
      "[94, 0.00039929960621520877, 0.0003882340097334236, '00:02']\n",
      "[94, 0.00039929960621520877, 0.0003882340097334236, '00:02']\n",
      "[95, 0.0004083953390363604, 0.000385875377105549, '00:02']\n",
      "[95, 0.0004083953390363604, 0.000385875377105549, '00:02']\n",
      "[96, 0.0003896160633303225, 0.0003847797925118357, '00:02']\n",
      "[96, 0.0003896160633303225, 0.0003847797925118357, '00:02']\n",
      "[97, 0.0004100512305740267, 0.0003858567215502262, '00:02']\n",
      "[97, 0.0004100512305740267, 0.0003858567215502262, '00:02']\n",
      "[98, 0.000393101159716025, 0.0003845120081678033, '00:02']\n",
      "[98, 0.000393101159716025, 0.0003845120081678033, '00:02']\n",
      "[99, 0.0003766148875001818, 0.0003844408201985061, '00:02']\n",
      "[99, 0.0003766148875001818, 0.0003844408201985061, '00:02']\n",
      "Training took 286.930041444 seconds\n"
     ]
    }
   ],
   "source": [
    "\n",
    "start = time.perf_counter() # Starts timer\n",
    "learn.fit_one_cycle(100,lr_min)\n",
    "end = time.perf_counter() # Ends timer\n",
    "delta_t = end - start\n",
    "print('Training took', delta_t, 'seconds')"
   ]
  },
  {
   "cell_type": "markdown",
   "id": "special-candidate",
   "metadata": {},
   "source": [
    "plot the loss as a function of batches and epochs to check if we reach a plateau."
   ]
  },
  {
   "cell_type": "code",
   "execution_count": 22,
   "id": "convenient-winning",
   "metadata": {},
   "outputs": [
    {
     "data": {
      "image/png": "[encoded data removed]",
      "text/plain": [
       "<Figure size 432x288 with 1 Axes>"
      ]
     },
     "metadata": {
      "needs_background": "light"
     },
     "output_type": "display_data"
    }
   ],
   "source": [
    "recorder.plot_loss()"
   ]
  },
  {
   "cell_type": "code",
   "execution_count": 23,
   "id": "distinguished-bottom",
   "metadata": {},
   "outputs": [
    {
     "data": {
      "text/plain": [
       "(#1) [0.0003844408201985061]"
      ]
     },
     "execution_count": 23,
     "metadata": {},
     "output_type": "execute_result"
    }
   ],
   "source": [
    "learn.validate()"
   ]
  },
  {
   "cell_type": "markdown",
   "id": "mysterious-aging",
   "metadata": {},
   "source": [
    "## Plotting the outputs of the network"
   ]
  },
  {
   "cell_type": "code",
   "execution_count": 24,
   "id": "outside-advisory",
   "metadata": {},
   "outputs": [],
   "source": [
    "save_dir = \"plotOutput\"\n",
    "if not os.path.exists(save_dir):\n",
    "    os.makedirs(save_dir)"
   ]
  },
  {
   "cell_type": "code",
   "execution_count": 25,
   "id": "authentic-assignment",
   "metadata": {},
   "outputs": [],
   "source": [
    "def custom_unnormalize(df):\n",
    "    df['eta'] = df['eta']*5\n",
    "    df['phi'] = df['phi'] * 3\n",
    "    df['E'] = (10**(df['E']*6))\n",
    "#     df['m'] = 10**df['m']\n",
    "    df['pt'] = (10**(df['pt']*6))\n",
    "    return df"
   ]
  },
  {
   "cell_type": "code",
   "execution_count": 26,
   "id": "obvious-masters",
   "metadata": {},
   "outputs": [
    {
     "data": {
      "image/png": "[encoded data removed]",
      "text/plain": [
       "<Figure size 432x288 with 1 Axes>"
      ]
     },
     "metadata": {
      "needs_background": "light"
     },
     "output_type": "display_data"
    },
    {
     "data": {
      "image/png": "[encoded data removed]",
      "text/plain": [
       "<Figure size 432x288 with 1 Axes>"
      ]
     },
     "metadata": {
      "needs_background": "light"
     },
     "output_type": "display_data"
    },
    {
     "data": {
      "image/png": "[encoded data removed]",
      "text/plain": [
       "<Figure size 432x288 with 1 Axes>"
      ]
     },
     "metadata": {
      "needs_background": "light"
     },
     "output_type": "display_data"
    },
    {
     "data": {
      "image/png": "[encoded data removed]",
      "text/plain": [
       "<Figure size 432x288 with 1 Axes>"
      ]
     },
     "metadata": {
      "needs_background": "light"
     },
     "output_type": "display_data"
    }
   ],
   "source": [
    "\n",
    "\n",
    "plt.close('all')\n",
    "# unit_list = ['[log(GeV)]', '[rad/3]', '[rad/3]', '[log(GeV)]']\n",
    "variable_list = [r'$E_T$',r'$p_T$', r'$\\eta$', r'$\\phi$']\n",
    "line_style = ['--', '-']\n",
    "colors = ['orange', 'c']\n",
    "markers = ['*', 's']\n",
    "\n",
    "model.to('cpu')\n",
    "\n",
    "save = True # Option to save figure\n",
    "\n",
    "# Histograms\n",
    "idxs = (0, 100000)  # Choose events to compare\n",
    "data = torch.tensor(np.array(test[idxs[0]:idxs[1]].values,dtype=float), dtype=torch.float)\n",
    "\n",
    "# data = torch.tensor(np.array(test[idxs[0]:idxs[1]].values,dtype=float), dtype=torch.float)\n",
    "#data = torch.tensor(test[idxs[0]:idxs[1]].values, dtype=torch.float).double()\n",
    "pred = model(data)\n",
    "pred = pred.detach().numpy()\n",
    "data = data.detach().numpy()\n",
    "\n",
    "data_df = pd.DataFrame(data, columns=test.columns)\n",
    "pred_df = pd.DataFrame(pred, columns=test.columns)\n",
    "\n",
    "unnormalized_data_df = custom_unnormalize(data_df)\n",
    "unnormalized_pred_df = custom_unnormalize(pred_df)    \n",
    "    \n",
    "alph = 0.8\n",
    "n_bins = 200\n",
    "for kk in np.arange(4):\n",
    "    plt.figure()\n",
    "    n_hist_data, bin_edges, _ = plt.hist(data[:, kk], color=colors[1], label='Input', alpha=1, bins=n_bins)\n",
    "    n_hist_pred, _, _ = plt.hist(pred[:, kk], color=colors[0], label='Output', alpha=alph, bins=bin_edges)\n",
    "#     plt.suptitle(test.columns[kk])\n",
    "    plt.xlabel(variable_list[kk])\n",
    "    plt.ylabel('Number of events')\n",
    "    # ms.sciy()\n",
    "    plt.yscale('log')\n",
    "    plt.legend()\n",
    "    if save:\n",
    "        plt.savefig(os.path.join(save_dir,test.columns[kk]+'.png'))\n",
    "    "
   ]
  },
  {
   "cell_type": "code",
   "execution_count": 27,
   "id": "acquired-cleaning",
   "metadata": {},
   "outputs": [],
   "source": [
    "def getRatio(bin1,bin2):\n",
    "    bins = []\n",
    "    for b1,b2 in zip(bin1,bin2):\n",
    "        if b1==0 and b2==0:\n",
    "            bins.append(0.)\n",
    "        elif b2==0:\n",
    "            bins.append(None)\n",
    "        else:\n",
    "            bins.append((float(b2)-float(b1))/b1)\n",
    "    return bins   \n",
    "\n",
    "rat = getRatio(n_hist_data,n_hist_pred)\n"
   ]
  },
  {
   "cell_type": "code",
   "execution_count": 28,
   "id": "disciplinary-secondary",
   "metadata": {},
   "outputs": [
    {
     "name": "stdout",
     "output_type": "stream",
     "text": [
      "[-0.07692307692307693, 0.0, 0.034482758620689655, -0.058823529411764705, 0.0, 0.0, 0.0, 0.0, 0.0, 0.0, 0.0, -0.05555555555555555, 0.043478260869565216, 0.0, 0.0, 0.0, 0.06666666666666667, -0.038461538461538464, -0.037037037037037035, 0.034482758620689655, 0.0, 0.0, 0.0, 0.0, 0.0, 0.0, 0.0, 0.0, 0.0, 0.0, 0.0, 0.0, 0.0, 0.0, 0.0, 0.0, -0.03225806451612903, 0.03571428571428571, 0.0, 0.0, 0.0, 0.0, 0.0, 0.0, 0.0, 0.0, 0.0, 0.0, 0.0, 0.0, 0.0, 0.0, 0.0, 0.0, 0.0, 0.0, 0.0, 0.0, 0.0, 0.0, 0.0, 0.0, 0.0, 0.0, 0.0, 0.05263157894736842, -0.041666666666666664, 0.0, 0.0, 0.0, 0.0, 0.0, 0.0, 0.0, 0.0, 0.0, 0.0, 0.0, -0.0625, 0.037037037037037035, 0.0, 0.0, 0.0, 0.0, 0.0, 0.0, 0.0, -0.047619047619047616, 0.05263157894736842, 0.0, 0.0, 0.0, 0.0, 0.0, 0.0, 0.0, 0.0, 0.0, 0.0, 0.0, 0.0, 0.0, 0.0, 0.0, 0.0, 0.0, 0.0, 0.0, 0.0, 0.0, 0.0, 0.0, 0.0, 0.0, 0.0, 0.0, 0.0, 0.0, 0.0, 0.037037037037037035, -0.05, 0.0, 0.0, 0.0, 0.0, -0.04, 0.045454545454545456, 0.0, 0.0, 0.0, 0.0, 0.0, 0.0, 0.0, 0.0, 0.0, 0.0, 0.0, 0.0, 0.0, 0.0, 0.0, 0.0, 0.0, 0.0, 0.0, 0.0, 0.0, 0.0, 0.0, 0.0, 0.0, 0.0, 0.0, 0.0, 0.0, 0.0, 0.0, 0.0, 0.0, 0.0, 0.0, 0.0, 0.037037037037037035, -0.043478260869565216, 0.0, 0.0, 0.0, 0.0, 0.0, 0.0, 0.0, 0.0, 0.0, 0.0, 0.0, 0.0, 0.0, 0.047619047619047616, -0.058823529411764705, 0.0, 0.0, 0.0, 0.0, 0.0, 0.0, -0.041666666666666664, 0.058823529411764705, 0.0, 0.0, 0.0, 0.0, 0.0, 0.0, 0.0, 0.0, 0.0, 0.0, 0.0, 0.0]\n"
     ]
    }
   ],
   "source": [
    "print(rat)"
   ]
  },
  {
   "cell_type": "code",
   "execution_count": null,
   "id": "specified-rwanda",
   "metadata": {},
   "outputs": [],
   "source": []
  }
 ],
 "metadata": {
  "kernelspec": {
   "display_name": "Python 3",
   "language": "python",
   "name": "python3"
  },
  "language_info": {
   "codemirror_mode": {
    "name": "ipython",
    "version": 3
   },
   "file_extension": ".py",
   "mimetype": "text/x-python",
   "name": "python",
   "nbconvert_exporter": "python",
   "pygments_lexer": "ipython3",
   "version": "3.7.10"
  }
 },
 "nbformat": 4,
 "nbformat_minor": 5
}
